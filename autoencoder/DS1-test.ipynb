{
 "cells": [
  {
   "cell_type": "code",
   "execution_count": 16,
   "id": "07c68d2a",
   "metadata": {},
   "outputs": [],
   "source": [
    "import numpy as np\n",
    "import pandas as pd\n",
    "from tensorflow.keras import models\n",
    "from PIL import Image\n",
    "import os"
   ]
  },
  {
   "cell_type": "code",
   "execution_count": 17,
   "id": "2844735b",
   "metadata": {},
   "outputs": [],
   "source": [
    "chars = ['a','nu','ti','ke','yo','yorozu']\n",
    "test_path = '../preprocessed/DS2/'\n",
    "\n",
    "test_data = {}\n",
    "dataset = {}\n",
    "filenames = {}\n",
    "for c in chars:\n",
    "    files = os.listdir(test_path + c + '/')\n",
    "    test_data_ = []\n",
    "    for f in files:\n",
    "        img = np.asarray(Image.open(test_path + c + '/' + f).convert('L')).reshape((64,64,1))\n",
    "        test_data_.append(img)\n",
    "    test_data_ = np.asarray(test_data_) / 255\n",
    "    test_data[c] = test_data_\n",
    "    filenames[c] = files"
   ]
  },
  {
   "cell_type": "code",
   "execution_count": 18,
   "id": "1baee006",
   "metadata": {},
   "outputs": [
    {
     "name": "stdout",
     "output_type": "stream",
     "text": [
      "3/3 [==============================] - 1s 69ms/step - loss: 0.1456\n",
      "3/3 [==============================] - 1s 36ms/step - loss: 0.1536\n",
      "3/3 [==============================] - 1s 62ms/step - loss: 0.0914\n",
      "3/3 [==============================] - 1s 31ms/step - loss: 0.1026\n",
      "3/3 [==============================] - 1s 33ms/step - loss: 0.1945\n",
      "3/3 [==============================] - 1s 69ms/step - loss: 0.1826\n"
     ]
    }
   ],
   "source": [
    "results = {}\n",
    "\n",
    "try: os.mkdir('test-ds1/')\n",
    "except: pass\n",
    "\n",
    "for c in chars:\n",
    "    try: os.mkdir('test-ds1/' + c)\n",
    "    except: pass\n",
    "    \n",
    "    model = models.load_model('model/' + c + '/autoencoder.h5')\n",
    "    results[c] = model.evaluate(test_data[c], test_data[c])\n",
    "    \n",
    "    reconstructed = (model.predict(test_data[c]) * 255).astype('uint8').reshape(test_data[c].shape[:3])\n",
    "    \n",
    "    for i  in range(len(filenames[c])):\n",
    "        img = reconstructed[i]\n",
    "        img = Image.fromarray(img)\n",
    "        img.save('test-ds1/' + c + \"/\" + filenames[c][i])"
   ]
  },
  {
   "cell_type": "code",
   "execution_count": null,
   "id": "9a66678e",
   "metadata": {},
   "outputs": [],
   "source": []
  }
 ],
 "metadata": {
  "kernelspec": {
   "display_name": "Python 3 (ipykernel)",
   "language": "python",
   "name": "python3"
  },
  "language_info": {
   "codemirror_mode": {
    "name": "ipython",
    "version": 3
   },
   "file_extension": ".py",
   "mimetype": "text/x-python",
   "name": "python",
   "nbconvert_exporter": "python",
   "pygments_lexer": "ipython3",
   "version": "3.9.17"
  }
 },
 "nbformat": 4,
 "nbformat_minor": 5
}
