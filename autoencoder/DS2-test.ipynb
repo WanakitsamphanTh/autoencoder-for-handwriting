{
 "cells": [
  {
   "cell_type": "code",
   "execution_count": 1,
   "id": "6f63c193",
   "metadata": {},
   "outputs": [],
   "source": [
    "import numpy as np\n",
    "import pandas as pd\n",
    "from tensorflow.keras import models\n",
    "from PIL import Image\n",
    "import os"
   ]
  },
  {
   "cell_type": "code",
   "execution_count": 2,
   "id": "f1ae3c22",
   "metadata": {},
   "outputs": [],
   "source": [
    "chars = ['a','nu','ti','ke','yo','yorozu']\n",
    "test_path = '../preprocessed/DS2/'\n",
    "\n",
    "test_data = {}\n",
    "dataset = {}\n",
    "filenames = {}\n",
    "for c in chars:\n",
    "    files = os.listdir(test_path + c + '/')\n",
    "    test_data_ = []\n",
    "    for f in files:\n",
    "        img = np.asarray(Image.open(test_path + c + '/' + f).convert('L')).reshape((64,64,1))\n",
    "        test_data_.append(img)\n",
    "    test_data_ = np.asarray(test_data_) / 255\n",
    "    test_data[c] = test_data_\n",
    "    filenames[c] = files"
   ]
  },
  {
   "cell_type": "code",
   "execution_count": 4,
   "id": "e49d339c",
   "metadata": {},
   "outputs": [
    {
     "name": "stdout",
     "output_type": "stream",
     "text": [
      "3/3 [==============================] - 1s 71ms/step - loss: 0.1456\n",
      "3/3 [==============================] - 1s 59ms/step - loss: 0.1536\n",
      "WARNING:tensorflow:5 out of the last 13 calls to <function Model.make_test_function.<locals>.test_function at 0x00000278BFF3D700> triggered tf.function retracing. Tracing is expensive and the excessive number of tracings could be due to (1) creating @tf.function repeatedly in a loop, (2) passing tensors with different shapes, (3) passing Python objects instead of tensors. For (1), please define your @tf.function outside of the loop. For (2), @tf.function has experimental_relax_shapes=True option that relaxes argument shapes that can avoid unnecessary retracing. For (3), please refer to https://www.tensorflow.org/guide/function#controlling_retracing and https://www.tensorflow.org/api_docs/python/tf/function for  more details.\n",
      "3/3 [==============================] - 0s 28ms/step - loss: 0.0914\n",
      "WARNING:tensorflow:5 out of the last 13 calls to <function Model.make_predict_function.<locals>.predict_function at 0x0000027735C7A700> triggered tf.function retracing. Tracing is expensive and the excessive number of tracings could be due to (1) creating @tf.function repeatedly in a loop, (2) passing tensors with different shapes, (3) passing Python objects instead of tensors. For (1), please define your @tf.function outside of the loop. For (2), @tf.function has experimental_relax_shapes=True option that relaxes argument shapes that can avoid unnecessary retracing. For (3), please refer to https://www.tensorflow.org/guide/function#controlling_retracing and https://www.tensorflow.org/api_docs/python/tf/function for  more details.\n",
      "WARNING:tensorflow:5 out of the last 13 calls to <function Model.make_test_function.<locals>.test_function at 0x00000278CB03E160> triggered tf.function retracing. Tracing is expensive and the excessive number of tracings could be due to (1) creating @tf.function repeatedly in a loop, (2) passing tensors with different shapes, (3) passing Python objects instead of tensors. For (1), please define your @tf.function outside of the loop. For (2), @tf.function has experimental_relax_shapes=True option that relaxes argument shapes that can avoid unnecessary retracing. For (3), please refer to https://www.tensorflow.org/guide/function#controlling_retracing and https://www.tensorflow.org/api_docs/python/tf/function for  more details.\n",
      "3/3 [==============================] - 0s 13ms/step - loss: 0.1026\n",
      "WARNING:tensorflow:5 out of the last 13 calls to <function Model.make_predict_function.<locals>.predict_function at 0x000002775481A160> triggered tf.function retracing. Tracing is expensive and the excessive number of tracings could be due to (1) creating @tf.function repeatedly in a loop, (2) passing tensors with different shapes, (3) passing Python objects instead of tensors. For (1), please define your @tf.function outside of the loop. For (2), @tf.function has experimental_relax_shapes=True option that relaxes argument shapes that can avoid unnecessary retracing. For (3), please refer to https://www.tensorflow.org/guide/function#controlling_retracing and https://www.tensorflow.org/api_docs/python/tf/function for  more details.\n",
      "3/3 [==============================] - 0s 16ms/step - loss: 0.2061\n",
      "3/3 [==============================] - 0s 32ms/step - loss: 0.1845\n"
     ]
    }
   ],
   "source": [
    "results = {}\n",
    "\n",
    "try: os.mkdir('test-ds2/')\n",
    "except: pass\n",
    "\n",
    "for c in ['a','nu','ti','ke','yo','yorozu']:\n",
    "    try: os.mkdir('test-ds2/' + c)\n",
    "    except: pass\n",
    "    \n",
    "    model = models.load_model('model/' + c + '/autoencoder.h5')\n",
    "    results[c] = model.evaluate(test_data[c], test_data[c])\n",
    "    \n",
    "    reconstructed = (model.predict(test_data[c]) * 255).astype('uint8').reshape(test_data[c].shape[:3])\n",
    "    \n",
    "    for i  in range(len(filenames[c])):\n",
    "        img = reconstructed[i]\n",
    "        img = Image.fromarray(img)\n",
    "        img.save('test-ds2/' + c + \"/\" + filenames[c][i])"
   ]
  },
  {
   "cell_type": "code",
   "execution_count": null,
   "id": "f1444b1d",
   "metadata": {},
   "outputs": [],
   "source": []
  }
 ],
 "metadata": {
  "kernelspec": {
   "display_name": "Python 3 (ipykernel)",
   "language": "python",
   "name": "python3"
  },
  "language_info": {
   "codemirror_mode": {
    "name": "ipython",
    "version": 3
   },
   "file_extension": ".py",
   "mimetype": "text/x-python",
   "name": "python",
   "nbconvert_exporter": "python",
   "pygments_lexer": "ipython3",
   "version": "3.9.17"
  }
 },
 "nbformat": 4,
 "nbformat_minor": 5
}
