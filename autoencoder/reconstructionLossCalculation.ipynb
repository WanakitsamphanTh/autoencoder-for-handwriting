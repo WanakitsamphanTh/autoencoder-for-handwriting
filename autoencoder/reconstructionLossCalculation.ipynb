{
 "cells": [
  {
   "cell_type": "code",
   "execution_count": 1,
   "id": "78ac4711",
   "metadata": {},
   "outputs": [],
   "source": [
    "import numpy as np\n",
    "import pandas as pd\n",
    "import math\n",
    "import os\n",
    "from PIL import Image\n",
    "from tensorflow.keras.losses import BinaryCrossentropy"
   ]
  },
  {
   "cell_type": "code",
   "execution_count": 2,
   "id": "4e20bdea",
   "metadata": {},
   "outputs": [],
   "source": [
    "chars = ['a','nu','ti','ke','yo','yorozu']"
   ]
  },
  {
   "cell_type": "code",
   "execution_count": 3,
   "id": "1adf3120",
   "metadata": {},
   "outputs": [],
   "source": [
    "BCE = BinaryCrossentropy()"
   ]
  },
  {
   "cell_type": "code",
   "execution_count": 4,
   "id": "8d6ce65b",
   "metadata": {},
   "outputs": [],
   "source": [
    "def importFiles(path):\n",
    "    files = os.listdir(path)\n",
    "    imgs = []\n",
    "    for f in files:\n",
    "        img = np.asarray(Image.open(path + f).convert(\"L\")).reshape((64,64,1)) / 255\n",
    "        imgs.append(img)\n",
    "    return dict(zip(files,imgs))"
   ]
  },
  {
   "cell_type": "markdown",
   "id": "157fa69c",
   "metadata": {},
   "source": [
    "# DS1 Reconstruction Loss"
   ]
  },
  {
   "cell_type": "code",
   "execution_count": 6,
   "id": "4511272d",
   "metadata": {},
   "outputs": [],
   "source": [
    "originals = {}\n",
    "reconstructed = {}\n",
    "losses = {}\n",
    "\n",
    "\n",
    "for c in chars:\n",
    "    ori = importFiles('../test-set/' + c + '/')\n",
    "    rec = importFiles('./test-ds1/' + c + '/')\n",
    "    loss = {}\n",
    "    for f in ori:\n",
    "        loss[f] = BCE([ori[f]],[rec[f + '.png']]).numpy()\n",
    "    \n",
    "    originals[c] = ori\n",
    "    reconstructed[c] = rec\n",
    "    losses[c] = loss"
   ]
  },
  {
   "cell_type": "code",
   "execution_count": 10,
   "id": "0b0cdbe4",
   "metadata": {},
   "outputs": [],
   "source": [
    "writer = pd.ExcelWriter('ds1-loss.xlsx')\n",
    "for c in chars:\n",
    "    f = pd.DataFrame(losses[c].items())\n",
    "    f.to_excel(writer, c)\n",
    "writer.save()\n"
   ]
  },
  {
   "cell_type": "markdown",
   "id": "c9e019c7",
   "metadata": {},
   "source": [
    "# DS2 Reconstruction Loss"
   ]
  },
  {
   "cell_type": "code",
   "execution_count": 13,
   "id": "23d44c25",
   "metadata": {},
   "outputs": [],
   "source": [
    "test_originals = {}\n",
    "test_reconstructed = {}\n",
    "test_losses = {}\n",
    "\n",
    "\n",
    "for c in chars:\n",
    "    ori = importFiles('../preprocessed/DS2/' + c + '/')\n",
    "    rec = importFiles('./test-ds2/' + c + '/')\n",
    "    loss = {}\n",
    "    for f in ori:\n",
    "        loss[f] = BCE([ori[f]],[rec[f]]).numpy()\n",
    "    \n",
    "    test_originals[c] = ori\n",
    "    test_reconstructed[c] = rec\n",
    "    test_losses[c] = loss"
   ]
  },
  {
   "cell_type": "code",
   "execution_count": 15,
   "id": "8d64f19d",
   "metadata": {},
   "outputs": [],
   "source": [
    "writer = pd.ExcelWriter('ds2-loss.xlsx')\n",
    "for key in chars:\n",
    "    f = pd.DataFrame(test_losses[key].items())\n",
    "    f.to_excel(writer, key)\n",
    "writer.save()\n"
   ]
  },
  {
   "cell_type": "code",
   "execution_count": null,
   "id": "a4d19f78",
   "metadata": {},
   "outputs": [],
   "source": []
  }
 ],
 "metadata": {
  "kernelspec": {
   "display_name": "Python 3",
   "language": "python",
   "name": "python3"
  },
  "language_info": {
   "codemirror_mode": {
    "name": "ipython",
    "version": 3
   },
   "file_extension": ".py",
   "mimetype": "text/x-python",
   "name": "python",
   "nbconvert_exporter": "python",
   "pygments_lexer": "ipython3",
   "version": "3.6.3"
  }
 },
 "nbformat": 4,
 "nbformat_minor": 5
}
